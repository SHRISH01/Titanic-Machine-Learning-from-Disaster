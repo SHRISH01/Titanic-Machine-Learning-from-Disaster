{
  "nbformat": 4,
  "nbformat_minor": 0,
  "metadata": {
    "colab": {
      "provenance": []
    },
    "kernelspec": {
      "name": "python3",
      "display_name": "Python 3"
    },
    "language_info": {
      "name": "python"
    }
  },
  "cells": [
    {
      "cell_type": "code",
      "execution_count": 48,
      "metadata": {
        "id": "_mRFBqLOZr3A"
      },
      "outputs": [],
      "source": [
        "import pyspark\n",
        "import boto3\n"
      ]
    },
    {
      "cell_type": "code",
      "source": [
        "# Problem statement and dataset can be found here https://www.kaggle.com/c/titanic"
      ],
      "metadata": {
        "id": "r3WAQzwca3j5"
      },
      "execution_count": 45,
      "outputs": []
    },
    {
      "cell_type": "code",
      "source": [
        "'''\n",
        "Prerequisites:\n",
        "Basics understand of python https://www.kaggle.com/learn/python\n",
        "\n",
        "Pandas https://www.kaggle.com/learn/pandas\n",
        "\n",
        "Machine learning https://www.kaggle.com/learn/machine-learning\n",
        "\n",
        "Apache Spark\n",
        "\n",
        "https://docs.databricks.com/spark/latest/gentle-introduction/gentle-intro.html\n",
        "\n",
        "https://docs.databricks.com/spark/latest/gentle-introduction/gentle-intro.html#gentle-introduction-to-apache-spark\n",
        "\n",
        "https://docs.databricks.com/spark/latest/gentle-introduction/for-data-scientists.html\n",
        "\n",
        "'''"
      ],
      "metadata": {
        "colab": {
          "base_uri": "https://localhost:8080/",
          "height": 89
        },
        "id": "6vtfvQIsa9Xt",
        "outputId": "4632da94-2585-4186-cc3f-00af1823277f"
      },
      "execution_count": 4,
      "outputs": [
        {
          "output_type": "execute_result",
          "data": {
            "text/plain": [
              "'\\nPrerequisites:\\nBasics understand of python https://www.kaggle.com/learn/python\\n\\nPandas https://www.kaggle.com/learn/pandas\\n\\nMachine learning https://www.kaggle.com/learn/machine-learning\\n\\nApache Spark\\n\\nhttps://docs.databricks.com/spark/latest/gentle-introduction/gentle-intro.html\\n\\nhttps://docs.databricks.com/spark/latest/gentle-introduction/gentle-intro.html#gentle-introduction-to-apache-spark\\n\\nhttps://docs.databricks.com/spark/latest/gentle-introduction/for-data-scientists.html\\n\\n'"
            ],
            "application/vnd.google.colaboratory.intrinsic+json": {
              "type": "string"
            }
          },
          "metadata": {},
          "execution_count": 4
        }
      ]
    },
    {
      "cell_type": "code",
      "source": [
        "# Importing the necessary libraries"
      ],
      "metadata": {
        "id": "BxjEOuASbDW6"
      },
      "execution_count": 5,
      "outputs": []
    },
    {
      "cell_type": "code",
      "source": [
        "from pyspark.sql import SparkSession\n",
        "from pyspark.ml import Pipeline\n",
        "from pyspark.sql.functions import mean,col,split, col, regexp_extract, when, lit\n",
        "from pyspark.ml.feature import StringIndexer\n",
        "from pyspark.ml.feature import VectorAssembler\n",
        "from pyspark.ml.evaluation import MulticlassClassificationEvaluator\n",
        "from pyspark.ml.feature import QuantileDiscretizer"
      ],
      "metadata": {
        "id": "eXCOaVYibJX1"
      },
      "execution_count": 6,
      "outputs": []
    },
    {
      "cell_type": "code",
      "source": [
        "# Starting Point: SparkSession"
      ],
      "metadata": {
        "id": "YhjeSE5dbMhp"
      },
      "execution_count": 7,
      "outputs": []
    },
    {
      "cell_type": "code",
      "source": [
        "# The entry point into all functionality in Spark is the SparkSession class. To create a basic SparkSession, just use SparkSession.builder"
      ],
      "metadata": {
        "id": "J8mrmBYkbQH_"
      },
      "execution_count": 8,
      "outputs": []
    },
    {
      "cell_type": "code",
      "source": [
        "spark = SparkSession.builder \\\n",
        "    .appName(\"titanic_dataset\") \\\n",
        "    .getOrCreate()"
      ],
      "metadata": {
        "id": "EcP7AYvlbTq5"
      },
      "execution_count": 44,
      "outputs": []
    },
    {
      "cell_type": "code",
      "source": [
        "spark"
      ],
      "metadata": {
        "colab": {
          "base_uri": "https://localhost:8080/",
          "height": 221
        },
        "id": "FlAlsvZNbZCM",
        "outputId": "e9003ddb-7d4c-480f-b55e-c322c6a22b78"
      },
      "execution_count": 39,
      "outputs": [
        {
          "output_type": "execute_result",
          "data": {
            "text/plain": [
              "<pyspark.sql.session.SparkSession at 0x7b61a8f54c40>"
            ],
            "text/html": [
              "\n",
              "            <div>\n",
              "                <p><b>SparkSession - in-memory</b></p>\n",
              "                \n",
              "        <div>\n",
              "            <p><b>SparkContext</b></p>\n",
              "\n",
              "            <p><a href=\"http://3cd6b4d949b5:4040\">Spark UI</a></p>\n",
              "\n",
              "            <dl>\n",
              "              <dt>Version</dt>\n",
              "                <dd><code>v3.5.3</code></dd>\n",
              "              <dt>Master</dt>\n",
              "                <dd><code>local[*]</code></dd>\n",
              "              <dt>AppName</dt>\n",
              "                <dd><code>Spark ML example on titanic dataset </code></dd>\n",
              "            </dl>\n",
              "        </div>\n",
              "        \n",
              "            </div>\n",
              "        "
            ]
          },
          "metadata": {},
          "execution_count": 39
        }
      ]
    },
    {
      "cell_type": "code",
      "source": [
        "import requests\n",
        "\n",
        "# Define the URL and local file path\n",
        "url = \"https://testbucket1730.s3.eu-north-1.amazonaws.com/train+(1).csv\"\n",
        "local_path = \"/tmp/dataset.csv\"\n",
        "\n",
        "# Download the file\n",
        "response = requests.get(url)\n",
        "with open(local_path, 'wb') as f:\n",
        "    f.write(response.content)"
      ],
      "metadata": {
        "id": "lADCKd3-iQVC"
      },
      "execution_count": 46,
      "outputs": []
    },
    {
      "cell_type": "code",
      "source": [
        "titanic_df= spark.read.csv(local_path, header=True, inferSchema=True)\n",
        "titanic_df.show()"
      ],
      "metadata": {
        "colab": {
          "base_uri": "https://localhost:8080/"
        },
        "id": "gXJNbUfKle7q",
        "outputId": "f2880083-18b6-41e3-856a-d167778dd7ae"
      },
      "execution_count": 49,
      "outputs": [
        {
          "output_type": "stream",
          "name": "stdout",
          "text": [
            "+-----------+--------+------+--------------------+------+----+-----+-----+----------------+-------+-----+--------+\n",
            "|PassengerId|Survived|Pclass|                Name|   Sex| Age|SibSp|Parch|          Ticket|   Fare|Cabin|Embarked|\n",
            "+-----------+--------+------+--------------------+------+----+-----+-----+----------------+-------+-----+--------+\n",
            "|          1|       0|     3|Braund, Mr. Owen ...|  male|22.0|    1|    0|       A/5 21171|   7.25| NULL|       S|\n",
            "|          2|       1|     1|Cumings, Mrs. Joh...|female|38.0|    1|    0|        PC 17599|71.2833|  C85|       C|\n",
            "|          3|       1|     3|Heikkinen, Miss. ...|female|26.0|    0|    0|STON/O2. 3101282|  7.925| NULL|       S|\n",
            "|          4|       1|     1|Futrelle, Mrs. Ja...|female|35.0|    1|    0|          113803|   53.1| C123|       S|\n",
            "|          5|       0|     3|Allen, Mr. Willia...|  male|35.0|    0|    0|          373450|   8.05| NULL|       S|\n",
            "|          6|       0|     3|    Moran, Mr. James|  male|NULL|    0|    0|          330877| 8.4583| NULL|       Q|\n",
            "|          7|       0|     1|McCarthy, Mr. Tim...|  male|54.0|    0|    0|           17463|51.8625|  E46|       S|\n",
            "|          8|       0|     3|Palsson, Master. ...|  male| 2.0|    3|    1|          349909| 21.075| NULL|       S|\n",
            "|          9|       1|     3|Johnson, Mrs. Osc...|female|27.0|    0|    2|          347742|11.1333| NULL|       S|\n",
            "|         10|       1|     2|Nasser, Mrs. Nich...|female|14.0|    1|    0|          237736|30.0708| NULL|       C|\n",
            "|         11|       1|     3|Sandstrom, Miss. ...|female| 4.0|    1|    1|         PP 9549|   16.7|   G6|       S|\n",
            "|         12|       1|     1|Bonnell, Miss. El...|female|58.0|    0|    0|          113783|  26.55| C103|       S|\n",
            "|         13|       0|     3|Saundercock, Mr. ...|  male|20.0|    0|    0|       A/5. 2151|   8.05| NULL|       S|\n",
            "|         14|       0|     3|Andersson, Mr. An...|  male|39.0|    1|    5|          347082| 31.275| NULL|       S|\n",
            "|         15|       0|     3|Vestrom, Miss. Hu...|female|14.0|    0|    0|          350406| 7.8542| NULL|       S|\n",
            "|         16|       1|     2|Hewlett, Mrs. (Ma...|female|55.0|    0|    0|          248706|   16.0| NULL|       S|\n",
            "|         17|       0|     3|Rice, Master. Eugene|  male| 2.0|    4|    1|          382652| 29.125| NULL|       Q|\n",
            "|         18|       1|     2|Williams, Mr. Cha...|  male|NULL|    0|    0|          244373|   13.0| NULL|       S|\n",
            "|         19|       0|     3|Vander Planke, Mr...|female|31.0|    1|    0|          345763|   18.0| NULL|       S|\n",
            "|         20|       1|     3|Masselmani, Mrs. ...|female|NULL|    0|    0|            2649|  7.225| NULL|       C|\n",
            "+-----------+--------+------+--------------------+------+----+-----+-----+----------------+-------+-----+--------+\n",
            "only showing top 20 rows\n",
            "\n"
          ]
        }
      ]
    },
    {
      "cell_type": "code",
      "source": [
        "\n",
        "passengers_count = titanic_df.count()"
      ],
      "metadata": {
        "id": "vbGIFBBWlm3N"
      },
      "execution_count": 50,
      "outputs": []
    },
    {
      "cell_type": "code",
      "source": [
        "passengers_count"
      ],
      "metadata": {
        "colab": {
          "base_uri": "https://localhost:8080/"
        },
        "id": "AvYukMqZmFIH",
        "outputId": "22ac5e0d-eddc-4195-9b2e-68f751e6406c"
      },
      "execution_count": 51,
      "outputs": [
        {
          "output_type": "execute_result",
          "data": {
            "text/plain": [
              "891"
            ]
          },
          "metadata": {},
          "execution_count": 51
        }
      ]
    },
    {
      "cell_type": "code",
      "source": [
        "# Summary"
      ],
      "metadata": {
        "id": "pXnWwcq6mMbW"
      },
      "execution_count": 52,
      "outputs": []
    },
    {
      "cell_type": "code",
      "source": [
        "titanic_df.describe().show()"
      ],
      "metadata": {
        "colab": {
          "base_uri": "https://localhost:8080/"
        },
        "id": "KgH01QdMmQln",
        "outputId": "2a46cd86-c389-4b4f-e4e7-04434ab51200"
      },
      "execution_count": 53,
      "outputs": [
        {
          "output_type": "stream",
          "name": "stdout",
          "text": [
            "+-------+-----------------+-------------------+------------------+--------------------+------+------------------+------------------+-------------------+------------------+-----------------+-----+--------+\n",
            "|summary|      PassengerId|           Survived|            Pclass|                Name|   Sex|               Age|             SibSp|              Parch|            Ticket|             Fare|Cabin|Embarked|\n",
            "+-------+-----------------+-------------------+------------------+--------------------+------+------------------+------------------+-------------------+------------------+-----------------+-----+--------+\n",
            "|  count|              891|                891|               891|                 891|   891|               714|               891|                891|               891|              891|  204|     889|\n",
            "|   mean|            446.0| 0.3838383838383838| 2.308641975308642|                NULL|  NULL| 29.69911764705882|0.5230078563411896|0.38159371492704824|260318.54916792738| 32.2042079685746| NULL|    NULL|\n",
            "| stddev|257.3538420152301|0.48659245426485753|0.8360712409770491|                NULL|  NULL|14.526497332334035|1.1027434322934315| 0.8060572211299488|471609.26868834975|49.69342859718089| NULL|    NULL|\n",
            "|    min|                1|                  0|                 1|\"Andersson, Mr. A...|female|              0.42|                 0|                  0|            110152|              0.0|  A10|       C|\n",
            "|    max|              891|                  1|                 3|van Melkebeke, Mr...|  male|              80.0|                 8|                  6|         WE/P 5735|         512.3292|    T|       S|\n",
            "+-------+-----------------+-------------------+------------------+--------------------+------+------------------+------------------+-------------------+------------------+-----------------+-----+--------+\n",
            "\n"
          ]
        }
      ]
    },
    {
      "cell_type": "code",
      "source": [
        "titanic_df.printSchema()"
      ],
      "metadata": {
        "colab": {
          "base_uri": "https://localhost:8080/"
        },
        "id": "pnEIGQ2UmREg",
        "outputId": "65829347-05d3-462f-9e89-79890170b9a8"
      },
      "execution_count": 54,
      "outputs": [
        {
          "output_type": "stream",
          "name": "stdout",
          "text": [
            "root\n",
            " |-- PassengerId: integer (nullable = true)\n",
            " |-- Survived: integer (nullable = true)\n",
            " |-- Pclass: integer (nullable = true)\n",
            " |-- Name: string (nullable = true)\n",
            " |-- Sex: string (nullable = true)\n",
            " |-- Age: double (nullable = true)\n",
            " |-- SibSp: integer (nullable = true)\n",
            " |-- Parch: integer (nullable = true)\n",
            " |-- Ticket: string (nullable = true)\n",
            " |-- Fare: double (nullable = true)\n",
            " |-- Cabin: string (nullable = true)\n",
            " |-- Embarked: string (nullable = true)\n",
            "\n"
          ]
        }
      ]
    },
    {
      "cell_type": "code",
      "source": [
        "# Let's select few features"
      ],
      "metadata": {
        "id": "egSiTyrimVZx"
      },
      "execution_count": 56,
      "outputs": []
    },
    {
      "cell_type": "code",
      "source": [
        "\n",
        "titanic_df.select(\"Survived\",\"Pclass\",\"Embarked\").show()"
      ],
      "metadata": {
        "colab": {
          "base_uri": "https://localhost:8080/"
        },
        "id": "YpBjmphpmcCm",
        "outputId": "171bb9da-9933-4d8c-b032-93053afb7f6e"
      },
      "execution_count": 57,
      "outputs": [
        {
          "output_type": "stream",
          "name": "stdout",
          "text": [
            "+--------+------+--------+\n",
            "|Survived|Pclass|Embarked|\n",
            "+--------+------+--------+\n",
            "|       0|     3|       S|\n",
            "|       1|     1|       C|\n",
            "|       1|     3|       S|\n",
            "|       1|     1|       S|\n",
            "|       0|     3|       S|\n",
            "|       0|     3|       Q|\n",
            "|       0|     1|       S|\n",
            "|       0|     3|       S|\n",
            "|       1|     3|       S|\n",
            "|       1|     2|       C|\n",
            "|       1|     3|       S|\n",
            "|       1|     1|       S|\n",
            "|       0|     3|       S|\n",
            "|       0|     3|       S|\n",
            "|       0|     3|       S|\n",
            "|       1|     2|       S|\n",
            "|       0|     3|       Q|\n",
            "|       1|     2|       S|\n",
            "|       0|     3|       S|\n",
            "|       1|     3|       C|\n",
            "+--------+------+--------+\n",
            "only showing top 20 rows\n",
            "\n"
          ]
        }
      ]
    },
    {
      "cell_type": "code",
      "source": [
        "# Exploratory Data Analysis (EDA)"
      ],
      "metadata": {
        "id": "0-3maIowmfsB"
      },
      "execution_count": 58,
      "outputs": []
    },
    {
      "cell_type": "code",
      "source": [
        "titanic_df.groupBy(\"Survived\").count().show()"
      ],
      "metadata": {
        "colab": {
          "base_uri": "https://localhost:8080/"
        },
        "id": "evednWquml2b",
        "outputId": "8ea063bb-bbb1-4ffe-be07-33c83ef22123"
      },
      "execution_count": 59,
      "outputs": [
        {
          "output_type": "stream",
          "name": "stdout",
          "text": [
            "+--------+-----+\n",
            "|Survived|count|\n",
            "+--------+-----+\n",
            "|       1|  342|\n",
            "|       0|  549|\n",
            "+--------+-----+\n",
            "\n"
          ]
        }
      ]
    },
    {
      "cell_type": "code",
      "source": [
        "# Out of 891 passengers in dataset, only around 342 survived."
      ],
      "metadata": {
        "id": "G6uWKqjompe8"
      },
      "execution_count": 60,
      "outputs": []
    },
    {
      "cell_type": "code",
      "source": [
        "titanic_df.groupBy(\"Sex\",\"Survived\").count().show()"
      ],
      "metadata": {
        "colab": {
          "base_uri": "https://localhost:8080/"
        },
        "id": "p39zfXlcmtTe",
        "outputId": "545b7621-1f01-4640-a784-c34eaf3fd306"
      },
      "execution_count": 61,
      "outputs": [
        {
          "output_type": "stream",
          "name": "stdout",
          "text": [
            "+------+--------+-----+\n",
            "|   Sex|Survived|count|\n",
            "+------+--------+-----+\n",
            "|  male|       0|  468|\n",
            "|female|       1|  233|\n",
            "|female|       0|   81|\n",
            "|  male|       1|  109|\n",
            "+------+--------+-----+\n",
            "\n"
          ]
        }
      ]
    },
    {
      "cell_type": "code",
      "source": [
        "# This looks interesting. The number of men on the ship is lot more than the number of women. Still the number of women saved is almost twice the number of males saved."
      ],
      "metadata": {
        "id": "LtNEsmgumxpd"
      },
      "execution_count": 62,
      "outputs": []
    },
    {
      "cell_type": "code",
      "source": [
        "\n",
        "titanic_df.groupBy(\"Pclass\",\"Survived\").count().show()"
      ],
      "metadata": {
        "colab": {
          "base_uri": "https://localhost:8080/"
        },
        "id": "wJeBTIsjm1KV",
        "outputId": "849453bd-f729-488d-e8be-9bc6a13687c6"
      },
      "execution_count": 63,
      "outputs": [
        {
          "output_type": "stream",
          "name": "stdout",
          "text": [
            "+------+--------+-----+\n",
            "|Pclass|Survived|count|\n",
            "+------+--------+-----+\n",
            "|     1|       0|   80|\n",
            "|     3|       1|  119|\n",
            "|     1|       1|  136|\n",
            "|     2|       1|   87|\n",
            "|     2|       0|   97|\n",
            "|     3|       0|  372|\n",
            "+------+--------+-----+\n",
            "\n"
          ]
        }
      ]
    },
    {
      "cell_type": "code",
      "source": [
        "# Checking Null values"
      ],
      "metadata": {
        "id": "D8nilV4Jm4W3"
      },
      "execution_count": 64,
      "outputs": []
    },
    {
      "cell_type": "code",
      "source": [
        "# This function use to print feature with null values and null count\n",
        "def null_value_count(df):\n",
        "  null_columns_counts = []\n",
        "  numRows = df.count()\n",
        "  for k in df.columns:\n",
        "    nullRows = df.where(col(k).isNull()).count()\n",
        "    if(nullRows > 0):\n",
        "      temp = k,nullRows\n",
        "      null_columns_counts.append(temp)\n",
        "  return(null_columns_counts)"
      ],
      "metadata": {
        "id": "O9Kj8Mzym9Su"
      },
      "execution_count": 65,
      "outputs": []
    },
    {
      "cell_type": "code",
      "source": [
        "\n",
        "# Calling function\n",
        "null_columns_count_list = null_value_count(titanic_df)"
      ],
      "metadata": {
        "id": "ute80UvanE2G"
      },
      "execution_count": 66,
      "outputs": []
    },
    {
      "cell_type": "code",
      "source": [
        "null_columns_count_list"
      ],
      "metadata": {
        "colab": {
          "base_uri": "https://localhost:8080/"
        },
        "id": "8_ToYO10nHxJ",
        "outputId": "abf5862f-4381-4d20-bee2-4b1c09ee200a"
      },
      "execution_count": 67,
      "outputs": [
        {
          "output_type": "execute_result",
          "data": {
            "text/plain": [
              "[('Age', 177), ('Cabin', 687), ('Embarked', 2)]"
            ]
          },
          "metadata": {},
          "execution_count": 67
        }
      ]
    },
    {
      "cell_type": "code",
      "source": [
        "spark.createDataFrame(null_columns_count_list, ['Column_With_Null_Value', 'Null_Values_Count']).show()"
      ],
      "metadata": {
        "colab": {
          "base_uri": "https://localhost:8080/"
        },
        "id": "3B-jvSNLnLeQ",
        "outputId": "74be9d32-3893-4cbc-a87f-89d8b73d35a1"
      },
      "execution_count": 68,
      "outputs": [
        {
          "output_type": "stream",
          "name": "stdout",
          "text": [
            "+----------------------+-----------------+\n",
            "|Column_With_Null_Value|Null_Values_Count|\n",
            "+----------------------+-----------------+\n",
            "|                   Age|              177|\n",
            "|                 Cabin|              687|\n",
            "|              Embarked|                2|\n",
            "+----------------------+-----------------+\n",
            "\n"
          ]
        }
      ]
    },
    {
      "cell_type": "code",
      "source": [
        "mean_age = titanic_df.select(mean('Age')).collect()[0][0]\n",
        "print(mean_age)"
      ],
      "metadata": {
        "colab": {
          "base_uri": "https://localhost:8080/"
        },
        "id": "D4siQvCFnRgP",
        "outputId": "485c2aae-9f3e-4139-dd7e-4b20d16086be"
      },
      "execution_count": 69,
      "outputs": [
        {
          "output_type": "stream",
          "name": "stdout",
          "text": [
            "29.69911764705882\n"
          ]
        }
      ]
    },
    {
      "cell_type": "code",
      "source": [
        "titanic_df.head(5)"
      ],
      "metadata": {
        "colab": {
          "base_uri": "https://localhost:8080/"
        },
        "id": "-4SoSvjKngTp",
        "outputId": "e59cbe10-1440-4d84-d304-c819b078e4a7"
      },
      "execution_count": 74,
      "outputs": [
        {
          "output_type": "execute_result",
          "data": {
            "text/plain": [
              "[Row(PassengerId=1, Survived=0, Pclass=3, Name='Braund, Mr. Owen Harris', Sex='male', Age=22.0, SibSp=1, Parch=0, Ticket='A/5 21171', Fare=7.25, Cabin=None, Embarked='S', Initial='Mr'),\n",
              " Row(PassengerId=2, Survived=1, Pclass=1, Name='Cumings, Mrs. John Bradley (Florence Briggs Thayer)', Sex='female', Age=38.0, SibSp=1, Parch=0, Ticket='PC 17599', Fare=71.2833, Cabin='C85', Embarked='C', Initial='Mrs'),\n",
              " Row(PassengerId=3, Survived=1, Pclass=3, Name='Heikkinen, Miss. Laina', Sex='female', Age=26.0, SibSp=0, Parch=0, Ticket='STON/O2. 3101282', Fare=7.925, Cabin=None, Embarked='S', Initial='Miss'),\n",
              " Row(PassengerId=4, Survived=1, Pclass=1, Name='Futrelle, Mrs. Jacques Heath (Lily May Peel)', Sex='female', Age=35.0, SibSp=1, Parch=0, Ticket='113803', Fare=53.1, Cabin='C123', Embarked='S', Initial='Mrs'),\n",
              " Row(PassengerId=5, Survived=0, Pclass=3, Name='Allen, Mr. William Henry', Sex='male', Age=35.0, SibSp=0, Parch=0, Ticket='373450', Fare=8.05, Cabin=None, Embarked='S', Initial='Mr')]"
            ]
          },
          "metadata": {},
          "execution_count": 74
        }
      ]
    },
    {
      "cell_type": "code",
      "source": [
        "titanic_df.show(5)"
      ],
      "metadata": {
        "colab": {
          "base_uri": "https://localhost:8080/"
        },
        "id": "5VB60eIinkFm",
        "outputId": "55507dec-84dd-46fb-f1b8-e4715ad36a5c"
      },
      "execution_count": 76,
      "outputs": [
        {
          "output_type": "stream",
          "name": "stdout",
          "text": [
            "+-----------+--------+------+--------------------+------+----+-----+-----+----------------+-------+-----+--------+-------+\n",
            "|PassengerId|Survived|Pclass|                Name|   Sex| Age|SibSp|Parch|          Ticket|   Fare|Cabin|Embarked|Initial|\n",
            "+-----------+--------+------+--------------------+------+----+-----+-----+----------------+-------+-----+--------+-------+\n",
            "|          1|       0|     3|Braund, Mr. Owen ...|  male|22.0|    1|    0|       A/5 21171|   7.25| NULL|       S|     Mr|\n",
            "|          2|       1|     1|Cumings, Mrs. Joh...|female|38.0|    1|    0|        PC 17599|71.2833|  C85|       C|    Mrs|\n",
            "|          3|       1|     3|Heikkinen, Miss. ...|female|26.0|    0|    0|STON/O2. 3101282|  7.925| NULL|       S|   Miss|\n",
            "|          4|       1|     1|Futrelle, Mrs. Ja...|female|35.0|    1|    0|          113803|   53.1| C123|       S|    Mrs|\n",
            "|          5|       0|     3|Allen, Mr. Willia...|  male|35.0|    0|    0|          373450|   8.05| NULL|       S|     Mr|\n",
            "+-----------+--------+------+--------------------+------+----+-----+-----+----------------+-------+-----+--------+-------+\n",
            "only showing top 5 rows\n",
            "\n"
          ]
        }
      ]
    },
    {
      "cell_type": "code",
      "source": [
        "# Drop columns which are not required"
      ],
      "metadata": {
        "id": "XXKVKf34nznB"
      },
      "execution_count": 77,
      "outputs": []
    },
    {
      "cell_type": "code",
      "source": [
        "titanic_df = titanic_df.drop(\"PassengerId\",\"Name\",\"Ticket\",\"Cabin\",\"Embarked\",\"Sex\",\"Initial\")"
      ],
      "metadata": {
        "id": "EitJQ9rVoDzn"
      },
      "execution_count": 78,
      "outputs": []
    },
    {
      "cell_type": "code",
      "source": [
        "titanic_df.show(5)"
      ],
      "metadata": {
        "colab": {
          "base_uri": "https://localhost:8080/"
        },
        "id": "KFC2wMKSoGjB",
        "outputId": "5bfbbcf0-f508-4d66-d3b0-a4ad741493da"
      },
      "execution_count": 79,
      "outputs": [
        {
          "output_type": "stream",
          "name": "stdout",
          "text": [
            "+--------+------+----+-----+-----+-------+\n",
            "|Survived|Pclass| Age|SibSp|Parch|   Fare|\n",
            "+--------+------+----+-----+-----+-------+\n",
            "|       0|     3|22.0|    1|    0|   7.25|\n",
            "|       1|     1|38.0|    1|    0|71.2833|\n",
            "|       1|     3|26.0|    0|    0|  7.925|\n",
            "|       1|     1|35.0|    1|    0|   53.1|\n",
            "|       0|     3|35.0|    0|    0|   8.05|\n",
            "+--------+------+----+-----+-----+-------+\n",
            "only showing top 5 rows\n",
            "\n"
          ]
        }
      ]
    },
    {
      "cell_type": "code",
      "source": [
        "from pyspark.ml.feature import Imputer\n",
        "\n",
        "imputer = Imputer(inputCols=[\"Pclass\", \"Age\", \"SibSp\", \"Parch\", \"Fare\"],\n",
        "                  outputCols=[\"Pclass\", \"Age\", \"SibSp\", \"Parch\", \"Fare\"]).setStrategy(\"mean\")\n",
        "titanic_df = imputer.fit(titanic_df).transform(titanic_df)\n",
        "\n"
      ],
      "metadata": {
        "id": "exa7smqGps58"
      },
      "execution_count": 90,
      "outputs": []
    },
    {
      "cell_type": "code",
      "source": [
        "'''\n",
        "\n",
        "Modelling\n",
        "\n",
        "Here is the list of few Classification Algorithms from Spark ML\n",
        "\n",
        "LogisticRegression\n",
        "\n",
        "DecisionTreeClassifier\n",
        "\n",
        "RandomForestClassifier\n",
        "\n",
        "Gradient-boosted tree classifier\n",
        "\n",
        "NaiveBayes\n",
        "\n",
        "Support Vector Machine\n",
        "\n",
        "LogisticRegression\n",
        "\n",
        "'''"
      ],
      "metadata": {
        "colab": {
          "base_uri": "https://localhost:8080/",
          "height": 53
        },
        "id": "wwSmBCmIoI1E",
        "outputId": "9f0f125c-d123-4c0f-b914-0a34796fe7b6"
      },
      "execution_count": 91,
      "outputs": [
        {
          "output_type": "execute_result",
          "data": {
            "text/plain": [
              "'\\n\\nModelling\\n\\nHere is the list of few Classification Algorithms from Spark ML\\n\\nLogisticRegression\\n\\nDecisionTreeClassifier\\n\\nRandomForestClassifier\\n\\nGradient-boosted tree classifier\\n\\nNaiveBayes\\n\\nSupport Vector Machine\\n\\nLogisticRegression\\n\\n'"
            ],
            "application/vnd.google.colaboratory.intrinsic+json": {
              "type": "string"
            }
          },
          "metadata": {},
          "execution_count": 91
        }
      ]
    },
    {
      "cell_type": "code",
      "source": [
        "# Let's put all features into a vector"
      ],
      "metadata": {
        "id": "mmRd-mZyopfS"
      },
      "execution_count": 92,
      "outputs": []
    },
    {
      "cell_type": "code",
      "source": [
        "feature = VectorAssembler(inputCols=titanic_df.columns[1:],outputCol=\"features\")\n",
        "feature_vector= feature.transform(titanic_df)"
      ],
      "metadata": {
        "id": "S6nVJjmQopmj"
      },
      "execution_count": 93,
      "outputs": []
    },
    {
      "cell_type": "code",
      "source": [
        "feature_vector"
      ],
      "metadata": {
        "colab": {
          "base_uri": "https://localhost:8080/"
        },
        "id": "7JM7f-DRops2",
        "outputId": "c6e9280f-f2c7-494b-d5d1-bf0f7c0110bd"
      },
      "execution_count": 94,
      "outputs": [
        {
          "output_type": "execute_result",
          "data": {
            "text/plain": [
              "DataFrame[Survived: int, Pclass: int, Age: double, SibSp: int, Parch: int, Fare: double, features: vector]"
            ]
          },
          "metadata": {},
          "execution_count": 94
        }
      ]
    },
    {
      "cell_type": "code",
      "source": [
        "(trainingData, testData) = feature_vector.randomSplit([0.8, 0.2],seed = 11)"
      ],
      "metadata": {
        "id": "h6wiGXc9opwO"
      },
      "execution_count": 95,
      "outputs": []
    },
    {
      "cell_type": "code",
      "source": [
        "# Logistic Regression"
      ],
      "metadata": {
        "id": "2A9yOAbhqkc3"
      },
      "execution_count": 104,
      "outputs": []
    },
    {
      "cell_type": "code",
      "source": [
        "from pyspark.ml.classification import LogisticRegression\n",
        "lr = LogisticRegression(labelCol=\"Survived\", featuresCol=\"features\")\n",
        "#Training algo\n",
        "lrModel = lr.fit(trainingData)\n"
      ],
      "metadata": {
        "id": "cm2iOTOUoTvq"
      },
      "execution_count": 97,
      "outputs": []
    },
    {
      "cell_type": "code",
      "source": [
        "lr_prediction = lrModel.transform(testData)\n",
        "lr_prediction.select(\"prediction\", \"Survived\", \"features\").show()\n",
        "evaluator = MulticlassClassificationEvaluator(labelCol=\"Survived\", predictionCol=\"prediction\", metricName=\"accuracy\")"
      ],
      "metadata": {
        "colab": {
          "base_uri": "https://localhost:8080/"
        },
        "id": "lf1uWjThogXQ",
        "outputId": "482274d0-f2d1-468a-9a32-3dd8d78e8263"
      },
      "execution_count": 98,
      "outputs": [
        {
          "output_type": "stream",
          "name": "stdout",
          "text": [
            "+----------+--------+--------------------+\n",
            "|prediction|Survived|            features|\n",
            "+----------+--------+--------------------+\n",
            "|       1.0|       0|[1.0,22.0,0.0,0.0...|\n",
            "|       1.0|       0|[1.0,24.0,0.0,0.0...|\n",
            "|       1.0|       0|[1.0,29.0,0.0,0.0...|\n",
            "|       1.0|       0|[1.0,29.0,1.0,0.0...|\n",
            "|       1.0|       0|(5,[0,1],[1.0,29....|\n",
            "|       1.0|       0|[1.0,29.699117647...|\n",
            "|       1.0|       0|[1.0,29.699117647...|\n",
            "|       1.0|       0|[1.0,29.699117647...|\n",
            "|       1.0|       0|[1.0,29.699117647...|\n",
            "|       1.0|       0|[1.0,29.699117647...|\n",
            "|       1.0|       0|[1.0,31.0,1.0,0.0...|\n",
            "|       1.0|       0|[1.0,37.0,1.0,0.0...|\n",
            "|       1.0|       0|[1.0,38.0,0.0,1.0...|\n",
            "|       1.0|       0|[1.0,45.0,1.0,0.0...|\n",
            "|       1.0|       0|[1.0,47.0,0.0,0.0...|\n",
            "|       1.0|       0|[1.0,58.0,0.0,2.0...|\n",
            "|       0.0|       0|[1.0,62.0,0.0,0.0...|\n",
            "|       0.0|       0|[1.0,65.0,0.0,0.0...|\n",
            "|       0.0|       0|[1.0,71.0,0.0,0.0...|\n",
            "|       1.0|       0|[2.0,19.0,1.0,1.0...|\n",
            "+----------+--------+--------------------+\n",
            "only showing top 20 rows\n",
            "\n"
          ]
        }
      ]
    },
    {
      "cell_type": "code",
      "source": [
        "# Evaluate how well is LogisticRegression doing"
      ],
      "metadata": {
        "id": "3l4uIwXGqBiv"
      },
      "execution_count": 99,
      "outputs": []
    },
    {
      "cell_type": "code",
      "source": [
        "lr_accuracy = evaluator.evaluate(lr_prediction)\n",
        "print(\"Accuracy of LogisticRegression is = %g\"% (lr_accuracy))\n",
        "print(\"Test Error of LogisticRegression = %g \" % (1.0 - lr_accuracy))\n",
        ""
      ],
      "metadata": {
        "colab": {
          "base_uri": "https://localhost:8080/"
        },
        "id": "PkEx_4EiqMXL",
        "outputId": "b93aec67-2d18-4c07-dd68-3f4ae29e9781"
      },
      "execution_count": 100,
      "outputs": [
        {
          "output_type": "stream",
          "name": "stdout",
          "text": [
            "Accuracy of LogisticRegression is = 0.68617\n",
            "Test Error of LogisticRegression = 0.31383 \n"
          ]
        }
      ]
    },
    {
      "cell_type": "code",
      "source": [
        "# Decision Tree Algorithm"
      ],
      "metadata": {
        "id": "_Kqi9USOqfSU"
      },
      "execution_count": 103,
      "outputs": []
    },
    {
      "cell_type": "code",
      "source": [
        "from pyspark.ml.classification import DecisionTreeClassifier\n",
        "dt = DecisionTreeClassifier(labelCol=\"Survived\", featuresCol=\"features\")\n",
        "dt_model = dt.fit(trainingData)\n",
        "dt_prediction = dt_model.transform(testData)\n",
        "dt_prediction.select(\"prediction\", \"Survived\", \"features\").show()"
      ],
      "metadata": {
        "colab": {
          "base_uri": "https://localhost:8080/"
        },
        "id": "5Z5nzO_dqPFy",
        "outputId": "c5d8e3c6-d83c-42d9-8c88-f712aad1d3ac"
      },
      "execution_count": 101,
      "outputs": [
        {
          "output_type": "stream",
          "name": "stdout",
          "text": [
            "+----------+--------+--------------------+\n",
            "|prediction|Survived|            features|\n",
            "+----------+--------+--------------------+\n",
            "|       1.0|       0|[1.0,22.0,0.0,0.0...|\n",
            "|       1.0|       0|[1.0,24.0,0.0,0.0...|\n",
            "|       1.0|       0|[1.0,29.0,0.0,0.0...|\n",
            "|       1.0|       0|[1.0,29.0,1.0,0.0...|\n",
            "|       0.0|       0|(5,[0,1],[1.0,29....|\n",
            "|       1.0|       0|[1.0,29.699117647...|\n",
            "|       1.0|       0|[1.0,29.699117647...|\n",
            "|       1.0|       0|[1.0,29.699117647...|\n",
            "|       1.0|       0|[1.0,29.699117647...|\n",
            "|       1.0|       0|[1.0,29.699117647...|\n",
            "|       1.0|       0|[1.0,31.0,1.0,0.0...|\n",
            "|       1.0|       0|[1.0,37.0,1.0,0.0...|\n",
            "|       1.0|       0|[1.0,38.0,0.0,1.0...|\n",
            "|       1.0|       0|[1.0,45.0,1.0,0.0...|\n",
            "|       0.0|       0|[1.0,47.0,0.0,0.0...|\n",
            "|       1.0|       0|[1.0,58.0,0.0,2.0...|\n",
            "|       0.0|       0|[1.0,62.0,0.0,0.0...|\n",
            "|       0.0|       0|[1.0,65.0,0.0,0.0...|\n",
            "|       0.0|       0|[1.0,71.0,0.0,0.0...|\n",
            "|       1.0|       0|[2.0,19.0,1.0,1.0...|\n",
            "+----------+--------+--------------------+\n",
            "only showing top 20 rows\n",
            "\n"
          ]
        }
      ]
    },
    {
      "cell_type": "code",
      "source": [
        "dt_accuracy = evaluator.evaluate(dt_prediction)\n",
        "print(\"Accuracy of DecisionTreeClassifier is = %g\"% (dt_accuracy))\n",
        "print(\"Test Error of DecisionTreeClassifier = %g \" % (1.0 - dt_accuracy))"
      ],
      "metadata": {
        "colab": {
          "base_uri": "https://localhost:8080/"
        },
        "id": "sroqXPCJqTyn",
        "outputId": "b2631a38-df7a-40f2-d583-ddff730cfcbd"
      },
      "execution_count": 102,
      "outputs": [
        {
          "output_type": "stream",
          "name": "stdout",
          "text": [
            "Accuracy of DecisionTreeClassifier is = 0.702128\n",
            "Test Error of DecisionTreeClassifier = 0.297872 \n"
          ]
        }
      ]
    },
    {
      "cell_type": "code",
      "source": [
        "# RandomForestClassifier"
      ],
      "metadata": {
        "id": "0s8gPaCoqZdh"
      },
      "execution_count": 105,
      "outputs": []
    },
    {
      "cell_type": "code",
      "source": [
        "from pyspark.ml.classification import RandomForestClassifier\n",
        "rf = DecisionTreeClassifier(labelCol=\"Survived\", featuresCol=\"features\")\n",
        "rf_model = rf.fit(trainingData)\n",
        "rf_prediction = rf_model.transform(testData)\n",
        "rf_prediction.select(\"prediction\", \"Survived\", \"features\").show()"
      ],
      "metadata": {
        "colab": {
          "base_uri": "https://localhost:8080/"
        },
        "id": "FbzlCVZAqzyQ",
        "outputId": "14c2f41d-b81c-49fe-c09b-1a4e94401d95"
      },
      "execution_count": 106,
      "outputs": [
        {
          "output_type": "stream",
          "name": "stdout",
          "text": [
            "+----------+--------+--------------------+\n",
            "|prediction|Survived|            features|\n",
            "+----------+--------+--------------------+\n",
            "|       1.0|       0|[1.0,22.0,0.0,0.0...|\n",
            "|       1.0|       0|[1.0,24.0,0.0,0.0...|\n",
            "|       1.0|       0|[1.0,29.0,0.0,0.0...|\n",
            "|       1.0|       0|[1.0,29.0,1.0,0.0...|\n",
            "|       0.0|       0|(5,[0,1],[1.0,29....|\n",
            "|       1.0|       0|[1.0,29.699117647...|\n",
            "|       1.0|       0|[1.0,29.699117647...|\n",
            "|       1.0|       0|[1.0,29.699117647...|\n",
            "|       1.0|       0|[1.0,29.699117647...|\n",
            "|       1.0|       0|[1.0,29.699117647...|\n",
            "|       1.0|       0|[1.0,31.0,1.0,0.0...|\n",
            "|       1.0|       0|[1.0,37.0,1.0,0.0...|\n",
            "|       1.0|       0|[1.0,38.0,0.0,1.0...|\n",
            "|       1.0|       0|[1.0,45.0,1.0,0.0...|\n",
            "|       0.0|       0|[1.0,47.0,0.0,0.0...|\n",
            "|       1.0|       0|[1.0,58.0,0.0,2.0...|\n",
            "|       0.0|       0|[1.0,62.0,0.0,0.0...|\n",
            "|       0.0|       0|[1.0,65.0,0.0,0.0...|\n",
            "|       0.0|       0|[1.0,71.0,0.0,0.0...|\n",
            "|       1.0|       0|[2.0,19.0,1.0,1.0...|\n",
            "+----------+--------+--------------------+\n",
            "only showing top 20 rows\n",
            "\n"
          ]
        }
      ]
    },
    {
      "cell_type": "code",
      "source": [
        "rf_accuracy = evaluator.evaluate(rf_prediction)\n",
        "print(\"Accuracy of RandomForestClassifier is = %g\"% (rf_accuracy))\n",
        "print(\"Test Error of RandomForestClassifier  = %g \" % (1.0 - rf_accuracy))"
      ],
      "metadata": {
        "colab": {
          "base_uri": "https://localhost:8080/"
        },
        "id": "vYA8AECjq2b5",
        "outputId": "1d9eaf06-130d-4d65-93a3-6126baf8dda4"
      },
      "execution_count": 107,
      "outputs": [
        {
          "output_type": "stream",
          "name": "stdout",
          "text": [
            "Accuracy of RandomForestClassifier is = 0.702128\n",
            "Test Error of RandomForestClassifier  = 0.297872 \n"
          ]
        }
      ]
    },
    {
      "cell_type": "code",
      "source": [
        "# Gradient-boosted tree classifier"
      ],
      "metadata": {
        "id": "llcux_nSq50L"
      },
      "execution_count": 108,
      "outputs": []
    },
    {
      "cell_type": "code",
      "source": [
        "from pyspark.ml.classification import GBTClassifier\n",
        "gbt = GBTClassifier(labelCol=\"Survived\", featuresCol=\"features\",maxIter=10)\n",
        "gbt_model = gbt.fit(trainingData)\n",
        "gbt_prediction = gbt_model.transform(testData)\n",
        "gbt_prediction.select(\"prediction\", \"Survived\", \"features\").show()"
      ],
      "metadata": {
        "colab": {
          "base_uri": "https://localhost:8080/"
        },
        "id": "eWA0MwGtq8OV",
        "outputId": "99c8f986-fbec-4966-8446-5ed34ce41208"
      },
      "execution_count": 109,
      "outputs": [
        {
          "output_type": "stream",
          "name": "stdout",
          "text": [
            "+----------+--------+--------------------+\n",
            "|prediction|Survived|            features|\n",
            "+----------+--------+--------------------+\n",
            "|       1.0|       0|[1.0,22.0,0.0,0.0...|\n",
            "|       1.0|       0|[1.0,24.0,0.0,0.0...|\n",
            "|       1.0|       0|[1.0,29.0,0.0,0.0...|\n",
            "|       1.0|       0|[1.0,29.0,1.0,0.0...|\n",
            "|       0.0|       0|(5,[0,1],[1.0,29....|\n",
            "|       1.0|       0|[1.0,29.699117647...|\n",
            "|       1.0|       0|[1.0,29.699117647...|\n",
            "|       1.0|       0|[1.0,29.699117647...|\n",
            "|       1.0|       0|[1.0,29.699117647...|\n",
            "|       1.0|       0|[1.0,29.699117647...|\n",
            "|       1.0|       0|[1.0,31.0,1.0,0.0...|\n",
            "|       1.0|       0|[1.0,37.0,1.0,0.0...|\n",
            "|       1.0|       0|[1.0,38.0,0.0,1.0...|\n",
            "|       1.0|       0|[1.0,45.0,1.0,0.0...|\n",
            "|       0.0|       0|[1.0,47.0,0.0,0.0...|\n",
            "|       1.0|       0|[1.0,58.0,0.0,2.0...|\n",
            "|       0.0|       0|[1.0,62.0,0.0,0.0...|\n",
            "|       0.0|       0|[1.0,65.0,0.0,0.0...|\n",
            "|       0.0|       0|[1.0,71.0,0.0,0.0...|\n",
            "|       1.0|       0|[2.0,19.0,1.0,1.0...|\n",
            "+----------+--------+--------------------+\n",
            "only showing top 20 rows\n",
            "\n"
          ]
        }
      ]
    },
    {
      "cell_type": "code",
      "source": [
        "gbt_accuracy = evaluator.evaluate(gbt_prediction)\n",
        "print(\"Accuracy of Gradient-boosted tree classifie is = %g\"% (gbt_accuracy))\n",
        "print(\"Test Error of Gradient-boosted tree classifie %g\"% (1.0 - gbt_accuracy))"
      ],
      "metadata": {
        "colab": {
          "base_uri": "https://localhost:8080/"
        },
        "id": "s04gu1gOq-VI",
        "outputId": "ffdcb840-7432-4894-d3d7-7af34ada80ee"
      },
      "execution_count": 110,
      "outputs": [
        {
          "output_type": "stream",
          "name": "stdout",
          "text": [
            "Accuracy of Gradient-boosted tree classifie is = 0.702128\n",
            "Test Error of Gradient-boosted tree classifie 0.297872\n"
          ]
        }
      ]
    },
    {
      "cell_type": "code",
      "source": [
        "# NaiveBayes"
      ],
      "metadata": {
        "id": "IC8Rqww3rDXe"
      },
      "execution_count": 111,
      "outputs": []
    },
    {
      "cell_type": "code",
      "source": [
        "\n",
        "from pyspark.ml.classification import NaiveBayes\n",
        "nb = NaiveBayes(labelCol=\"Survived\", featuresCol=\"features\")\n",
        "nb_model = nb.fit(trainingData)\n",
        "nb_prediction = nb_model.transform(testData)\n",
        "nb_prediction.select(\"prediction\", \"Survived\", \"features\").show()"
      ],
      "metadata": {
        "colab": {
          "base_uri": "https://localhost:8080/"
        },
        "id": "9UETZRhfrJ_K",
        "outputId": "a1d773b7-1ae6-4984-9997-97e48a09c07f"
      },
      "execution_count": 112,
      "outputs": [
        {
          "output_type": "stream",
          "name": "stdout",
          "text": [
            "+----------+--------+--------------------+\n",
            "|prediction|Survived|            features|\n",
            "+----------+--------+--------------------+\n",
            "|       1.0|       0|[1.0,22.0,0.0,0.0...|\n",
            "|       1.0|       0|[1.0,24.0,0.0,0.0...|\n",
            "|       0.0|       0|[1.0,29.0,0.0,0.0...|\n",
            "|       1.0|       0|[1.0,29.0,1.0,0.0...|\n",
            "|       0.0|       0|(5,[0,1],[1.0,29....|\n",
            "|       0.0|       0|[1.0,29.699117647...|\n",
            "|       0.0|       0|[1.0,29.699117647...|\n",
            "|       0.0|       0|[1.0,29.699117647...|\n",
            "|       1.0|       0|[1.0,29.699117647...|\n",
            "|       1.0|       0|[1.0,29.699117647...|\n",
            "|       1.0|       0|[1.0,31.0,1.0,0.0...|\n",
            "|       1.0|       0|[1.0,37.0,1.0,0.0...|\n",
            "|       1.0|       0|[1.0,38.0,0.0,1.0...|\n",
            "|       1.0|       0|[1.0,45.0,1.0,0.0...|\n",
            "|       0.0|       0|[1.0,47.0,0.0,0.0...|\n",
            "|       1.0|       0|[1.0,58.0,0.0,2.0...|\n",
            "|       0.0|       0|[1.0,62.0,0.0,0.0...|\n",
            "|       0.0|       0|[1.0,65.0,0.0,0.0...|\n",
            "|       0.0|       0|[1.0,71.0,0.0,0.0...|\n",
            "|       1.0|       0|[2.0,19.0,1.0,1.0...|\n",
            "+----------+--------+--------------------+\n",
            "only showing top 20 rows\n",
            "\n"
          ]
        }
      ]
    },
    {
      "cell_type": "code",
      "source": [
        "nb_accuracy = evaluator.evaluate(nb_prediction)\n",
        "print(\"Accuracy of NaiveBayes is  = %g\"% (nb_accuracy))\n",
        "print(\"Test Error of NaiveBayes  = %g \" % (1.0 - nb_accuracy))"
      ],
      "metadata": {
        "colab": {
          "base_uri": "https://localhost:8080/"
        },
        "id": "xTMVUIW6rMEd",
        "outputId": "461ce9d0-52dd-44f7-edfd-f7c70eebfad9"
      },
      "execution_count": 113,
      "outputs": [
        {
          "output_type": "stream",
          "name": "stdout",
          "text": [
            "Accuracy of NaiveBayes is  = 0.696809\n",
            "Test Error of NaiveBayes  = 0.303191 \n"
          ]
        }
      ]
    },
    {
      "cell_type": "code",
      "source": [
        "# Support Vector Machine"
      ],
      "metadata": {
        "id": "zN7nm0_srO6X"
      },
      "execution_count": 114,
      "outputs": []
    },
    {
      "cell_type": "code",
      "source": [
        "from pyspark.ml.classification import LinearSVC\n",
        "svm = LinearSVC(labelCol=\"Survived\", featuresCol=\"features\")\n",
        "svm_model = svm.fit(trainingData)\n",
        "svm_prediction = svm_model.transform(testData)\n",
        "svm_prediction.select(\"prediction\", \"Survived\", \"features\").show()"
      ],
      "metadata": {
        "colab": {
          "base_uri": "https://localhost:8080/"
        },
        "id": "y4NiEgAMrRws",
        "outputId": "479ded0d-08ae-48d2-a629-d920e4c07eeb"
      },
      "execution_count": 115,
      "outputs": [
        {
          "output_type": "stream",
          "name": "stdout",
          "text": [
            "+----------+--------+--------------------+\n",
            "|prediction|Survived|            features|\n",
            "+----------+--------+--------------------+\n",
            "|       1.0|       0|[1.0,22.0,0.0,0.0...|\n",
            "|       1.0|       0|[1.0,24.0,0.0,0.0...|\n",
            "|       1.0|       0|[1.0,29.0,0.0,0.0...|\n",
            "|       1.0|       0|[1.0,29.0,1.0,0.0...|\n",
            "|       1.0|       0|(5,[0,1],[1.0,29....|\n",
            "|       1.0|       0|[1.0,29.699117647...|\n",
            "|       1.0|       0|[1.0,29.699117647...|\n",
            "|       1.0|       0|[1.0,29.699117647...|\n",
            "|       1.0|       0|[1.0,29.699117647...|\n",
            "|       1.0|       0|[1.0,29.699117647...|\n",
            "|       1.0|       0|[1.0,31.0,1.0,0.0...|\n",
            "|       1.0|       0|[1.0,37.0,1.0,0.0...|\n",
            "|       1.0|       0|[1.0,38.0,0.0,1.0...|\n",
            "|       1.0|       0|[1.0,45.0,1.0,0.0...|\n",
            "|       1.0|       0|[1.0,47.0,0.0,0.0...|\n",
            "|       1.0|       0|[1.0,58.0,0.0,2.0...|\n",
            "|       1.0|       0|[1.0,62.0,0.0,0.0...|\n",
            "|       1.0|       0|[1.0,65.0,0.0,0.0...|\n",
            "|       1.0|       0|[1.0,71.0,0.0,0.0...|\n",
            "|       1.0|       0|[2.0,19.0,1.0,1.0...|\n",
            "+----------+--------+--------------------+\n",
            "only showing top 20 rows\n",
            "\n"
          ]
        }
      ]
    },
    {
      "cell_type": "code",
      "source": [
        "# Evaluate how well is Support Vector Machine doing"
      ],
      "metadata": {
        "id": "VS_O3x-MrUJX"
      },
      "execution_count": 116,
      "outputs": []
    },
    {
      "cell_type": "code",
      "source": [
        "svm_accuracy = evaluator.evaluate(svm_prediction)\n",
        "print(\"Accuracy of Support Vector Machine is = %g\"% (svm_accuracy))\n",
        "print(\"Test Error of Support Vector Machine = %g \" % (1.0 - svm_accuracy))"
      ],
      "metadata": {
        "colab": {
          "base_uri": "https://localhost:8080/"
        },
        "id": "u6jMy0tXrWXs",
        "outputId": "5f1ea6cc-529e-4143-b985-95b079fb04fb"
      },
      "execution_count": 117,
      "outputs": [
        {
          "output_type": "stream",
          "name": "stdout",
          "text": [
            "Accuracy of Support Vector Machine is = 0.680851\n",
            "Test Error of Support Vector Machine = 0.319149 \n"
          ]
        }
      ]
    },
    {
      "cell_type": "code",
      "source": [
        "# Accuracy of Support Vector Machine is = 0.836257 Test Error of Support Vector Machine = 0.163743"
      ],
      "metadata": {
        "id": "vivXT8v9raAa"
      },
      "execution_count": 118,
      "outputs": []
    },
    {
      "cell_type": "code",
      "source": [
        "'''\n",
        "\n",
        "How to increase accuracy of a model ?\n",
        "\n",
        "Add new features or drop existing features and train model\n",
        "Tune ML algorith (https://spark.apache.org/docs/latest/ml-tuning.html)\n",
        "\n",
        "'''"
      ],
      "metadata": {
        "colab": {
          "base_uri": "https://localhost:8080/",
          "height": 53
        },
        "id": "uU0z3nYfrdNg",
        "outputId": "54a4703f-31bd-4bd1-a055-5b4e0d353c70"
      },
      "execution_count": 119,
      "outputs": [
        {
          "output_type": "execute_result",
          "data": {
            "text/plain": [
              "'\\n\\nHow to increase accuracy of a model ?\\n\\nAdd new features or drop existing features and train model\\nTune ML algorith (https://spark.apache.org/docs/latest/ml-tuning.html)\\n\\n'"
            ],
            "application/vnd.google.colaboratory.intrinsic+json": {
              "type": "string"
            }
          },
          "metadata": {},
          "execution_count": 119
        }
      ]
    },
    {
      "cell_type": "code",
      "source": [
        "# Reference\n",
        "# https://spark.apache.org/docs/latest/ml-classification-regression.html"
      ],
      "metadata": {
        "id": "U7Wis_5Rrh_1"
      },
      "execution_count": 122,
      "outputs": []
    },
    {
      "cell_type": "code",
      "source": [],
      "metadata": {
        "id": "O7gX557urmXA"
      },
      "execution_count": null,
      "outputs": []
    }
  ]
}